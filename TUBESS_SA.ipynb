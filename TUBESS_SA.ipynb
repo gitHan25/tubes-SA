{
  "cells": [
    {
      "cell_type": "markdown",
      "metadata": {
        "id": "view-in-github",
        "colab_type": "text"
      },
      "source": [
        "<a href=\"https://colab.research.google.com/github/gitHan25/tubes-SA/blob/main/TUBESS_SA.ipynb\" target=\"_parent\"><img src=\"https://colab.research.google.com/assets/colab-badge.svg\" alt=\"Open In Colab\"/></a>"
      ]
    },
    {
      "cell_type": "code",
      "execution_count": null,
      "metadata": {
        "id": "hRxnaUAAsEWM"
      },
      "outputs": [],
      "source": [
        "import time\n",
        "from itertools import permutations"
      ]
    },
    {
      "cell_type": "code",
      "execution_count": null,
      "metadata": {
        "id": "nFzx-chcqVCG"
      },
      "outputs": [],
      "source": [
        "# Dataset\n",
        "distances_and_fuel = {\n",
        "    'Bandung': {'Yogyakarta': (485.3, 161.7), 'Semarang': (359.8, 119.9), 'Batu': (704.6, 234.8), 'Solo': (459.3, 153.1), 'Surabaya': (704.0, 234.6)},\n",
        "    'Yogyakarta': {'Bandung': (485.3, 161.7), 'Semarang': (134.1, 44.7), 'Batu': (326.3, 108.7), 'Solo': (66.8, 22.2), 'Surabaya': (325.6, 108.5)},\n",
        "    'Semarang': {'Bandung': (359.8, 119.9), 'Yogyakarta': (134.1, 44.7), 'Batu': (351.6, 117.2), 'Solo': (106.3, 35.4), 'Surabaya': (351.0, 117.0)},\n",
        "    'Batu': {'Bandung': (704.6, 234.8), 'Yogyakarta': (326.3, 108.7), 'Semarang': (351.6, 117.2), 'Solo': (257.9, 85.9), 'Surabaya': (104.3, 34.7)},\n",
        "    'Solo': {'Bandung': (459.3, 153.1), 'Yogyakarta': (66.8, 22.2), 'Semarang': (106.3, 35.4), 'Batu': (257.9, 85.9), 'Surabaya': (257.3, 85.7)},\n",
        "    'Surabaya': {'Bandung': (704.0, 234.6), 'Yogyakarta': (325.6, 108.5), 'Semarang': (351.0, 117.0), 'Batu': (104.3, 34.7), 'Solo': (257.3, 85.7)}\n",
        "}"
      ]
    },
    {
      "cell_type": "code",
      "execution_count": null,
      "metadata": {
        "id": "qAuuPOGWqe7q"
      },
      "outputs": [],
      "source": [
        "#Menghitung Total Jarak & Bensin yang dihabiskan\n",
        "def calculate_route_distance_and_fuel(route, distances_and_fuel):\n",
        "    total_distance = 0\n",
        "    total_fuel = 0\n",
        "    for i in range(len(route) - 1):\n",
        "        city_from = route[i]\n",
        "        city_to = route[i + 1]\n",
        "        distance, fuel = distances_and_fuel[city_from][city_to]\n",
        "        total_distance += distance\n",
        "        total_fuel += fuel\n",
        "    return total_distance, total_fuel"
      ]
    },
    {
      "cell_type": "code",
      "execution_count": null,
      "metadata": {
        "id": "RA96ZsA7qho3",
        "colab": {
          "base_uri": "https://localhost:8080/"
        },
        "outputId": "5f13ed83-8348-4872-94a1-e4f441fbec55"
      },
      "outputs": [
        {
          "name": "stdout",
          "output_type": "stream",
          "text": [
            "Masukkan kota awal : Bandung\n",
            "Masukkan kota akhir: Surabaya\n"
          ]
        }
      ],
      "source": [
        "#Input kota tujuan\n",
        "starting_city = input(\"Masukkan kota awal : \")\n",
        "ending_city = input(\"Masukkan kota akhir: \")"
      ]
    },
    {
      "cell_type": "markdown",
      "metadata": {
        "id": "uAVL-hxWrJAU"
      },
      "source": [
        "***Brute Force***\n"
      ]
    },
    {
      "cell_type": "code",
      "source": [
        "def bruteforce(start_city, end_city, distances_and_fuel):\n",
        "    cities = list(distances_and_fuel.keys())\n",
        "    cities.remove(start_city)\n",
        "    cities.remove(end_city)\n",
        "\n",
        "    best_route = None\n",
        "    best_distance = float('inf')\n",
        "    best_fuel = float('inf')\n",
        "\n",
        "    all_possible_routes = []\n",
        "\n",
        "    for perm in permutations(cities):\n",
        "        route = [start_city] + list(perm) + [end_city]\n",
        "        total_distance, total_fuel = calculate_route_distance_and_fuel(route, distances_and_fuel)\n",
        "        all_possible_routes.append((route, total_distance, total_fuel))\n",
        "        if total_distance < best_distance or (total_distance == best_distance and total_fuel < best_fuel):\n",
        "            best_route = route\n",
        "            best_distance = total_distance\n",
        "            best_fuel = total_fuel\n",
        "\n",
        "    return all_possible_routes, best_route, best_distance, best_fuel\n",
        "\n",
        "def main():\n",
        "    all_possible_routes, best_route, best_distance, best_fuel = bruteforce(starting_city, ending_city, distances_and_fuel)\n",
        "\n",
        "    # Menghitung Execution Time\n",
        "    start_time = time.time()\n",
        "    end_time = time.time()\n",
        "\n",
        "    print(\"Algoritma Brute Force\")\n",
        "#    print(\"\\nSemua kemungkinan rute yang dilalui:\")\n",
        "#    for route, distance, fuel in all_possible_routes:\n",
        "#        print(f\"Rute   : {route}\")\n",
        "#        print(f\"Jarak  : {distance} km\")\n",
        "#        print(f\"Bensin : {fuel} liter\")\n",
        "\n",
        "    print(\"\\nKota Awal        :\", starting_city)\n",
        "    print(\"Kota Tujuan      :\", ending_city)\n",
        "    print(f\"Rute terbaik     : {best_route}\")\n",
        "    print(f\"Total Jarak      : {best_distance} km\")\n",
        "    print(f\"Total Bensin     : {best_fuel} liter\")\n",
        "    print(f\"Execution time   : {end_time - start_time} seconds\")\n",
        "\n",
        "if __name__ == \"__main__\":\n",
        "    main()\n"
      ],
      "metadata": {
        "id": "RQ-6qlF3xE6p",
        "colab": {
          "base_uri": "https://localhost:8080/"
        },
        "outputId": "c8ac04db-6ad7-40de-f167-305b3cc65776"
      },
      "execution_count": null,
      "outputs": [
        {
          "output_type": "stream",
          "name": "stdout",
          "text": [
            "Algoritma Brute Force\n",
            "\n",
            "Kota Awal        : Bandung\n",
            "Kota Tujuan      : Surabaya\n",
            "Rute terbaik     : ['Bandung', 'Semarang', 'Yogyakarta', 'Solo', 'Batu', 'Surabaya']\n",
            "Total Jarak      : 922.8999999999999 km\n",
            "Total Bensin     : 307.40000000000003 liter\n",
            "Execution time   : 2.384185791015625e-07 seconds\n"
          ]
        }
      ]
    },
    {
      "cell_type": "markdown",
      "metadata": {
        "id": "6AoSwyd0rNMi"
      },
      "source": [
        "***Backtracking***"
      ]
    },
    {
      "cell_type": "code",
      "execution_count": null,
      "metadata": {
        "colab": {
          "base_uri": "https://localhost:8080/"
        },
        "id": "3F-W73vLqury",
        "outputId": "2944eef1-c407-4750-ec50-fab1dd66aae6"
      },
      "outputs": [
        {
          "output_type": "stream",
          "name": "stdout",
          "text": [
            "Algoritma Backtracking\n",
            "\n",
            "Kota Awal        : Bandung\n",
            "Kota Tujuan      : Surabaya\n",
            "Rute Terbaik     : ['Bandung', 'Semarang', 'Yogyakarta', 'Solo', 'Batu', 'Surabaya']\n",
            "Total jarak      : 922.8999999999999 KM\n",
            "Total bahan bakar: 307.40000000000003 L\n",
            "Execution time   : 1.1920928955078125e-06 seconds\n"
          ]
        }
      ],
      "source": [
        "# Fungsi untuk menghasilkan semua kemungkinan rute\n",
        "def backtrack(current_city, end_city, visited, current_route):\n",
        "    global best_route, best_cost, best_fuel\n",
        "\n",
        "    if len(visited) == len(distances_and_fuel):\n",
        "        if current_city == end_city:\n",
        "            total_distance, total_fuel = calculate_route_distance_and_fuel(current_route, distances_and_fuel)\n",
        "            if total_distance < best_cost:\n",
        "                best_cost = total_distance\n",
        "                best_fuel = total_fuel\n",
        "                best_route = list(current_route)\n",
        "        return\n",
        "\n",
        "    for next_city in distances_and_fuel[current_city]:\n",
        "        if next_city not in visited:\n",
        "            visited.add(next_city)\n",
        "            current_route.append(next_city)\n",
        "            backtrack(next_city, end_city, visited, current_route)\n",
        "            current_route.pop()\n",
        "            visited.remove(next_city)\n",
        "    return\n",
        "\n",
        "# Cek Input\n",
        "if starting_city not in distances_and_fuel or ending_city not in distances_and_fuel:\n",
        "    print(\"Kota tidak valid\")\n",
        "else:\n",
        "    #variabel untuk menyimpan rute terbaik\n",
        "    best_route = None\n",
        "    best_cost = float('inf')\n",
        "    best_fuel = float('inf')\n",
        "\n",
        "    # Mulai dari kota awal\n",
        "    backtrack(starting_city, ending_city, {starting_city}, [starting_city])\n",
        "\n",
        "     # Menghitung Execution Time\n",
        "    start_time = time.time()\n",
        "    end_time = time.time()\n",
        "\n",
        "\n",
        "    # Print hasil rute terbaik (Kondisi)\n",
        "    print(\"Algoritma Backtracking\")\n",
        "    if best_route:\n",
        "        print(\"\\nKota Awal        :\", starting_city)\n",
        "        print(\"Kota Tujuan      :\", ending_city)\n",
        "        print(f\"Rute Terbaik     : {best_route}\")\n",
        "        print(\"Total jarak      :\", best_cost, \"KM\")\n",
        "        print(\"Total bahan bakar:\", best_fuel, \"L\")\n",
        "        print(f\"Execution time   : {end_time - start_time} seconds\")\n",
        "    else:\n",
        "        print(\"\\nKota Awal        :\", starting_city)\n",
        "        print(\"Kota Tujuan      :\", ending_city)\n",
        "        print(\"Tidak ada rute yang ditemukan.\")\n",
        "        print(f\"Execution time   : {end_time - start_time} seconds\")"
      ]
    }
  ],
  "metadata": {
    "colab": {
      "provenance": [],
      "include_colab_link": true
    },
    "kernelspec": {
      "display_name": "Python 3",
      "name": "python3"
    },
    "language_info": {
      "name": "python"
    }
  },
  "nbformat": 4,
  "nbformat_minor": 0
}